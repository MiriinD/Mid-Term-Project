{
 "cells": [
  {
   "cell_type": "code",
   "execution_count": 202,
   "id": "4d730624-eae1-4e37-aa3c-563517f9d379",
   "metadata": {
    "tags": []
   },
   "outputs": [
    {
     "name": "stdout",
     "output_type": "stream",
     "text": [
      "Requirement already satisfied: xlrd in c:\\users\\vonke\\anaconda3\\lib\\site-packages (2.0.1)\n",
      "Note: you may need to restart the kernel to use updated packages.\n"
     ]
    }
   ],
   "source": [
    "pip install xlrd"
   ]
  },
  {
   "cell_type": "code",
   "execution_count": 203,
   "id": "f41cfaf1-f01e-4526-b09e-ad235a1f5ba7",
   "metadata": {
    "tags": []
   },
   "outputs": [],
   "source": [
    "#Importing our defined functions\n",
    "from clean_data_functions import *"
   ]
  },
  {
   "cell_type": "code",
   "execution_count": 204,
   "id": "edb7d590-6425-4aa0-8298-6bc0d0a246b0",
   "metadata": {
    "tags": []
   },
   "outputs": [],
   "source": [
    "import pandas as pd\n",
    "import numpy as np\n",
    "\n",
    "url = 'listings.csv'\n",
    "airbnb_df = pd.read_csv(url)"
   ]
  },
  {
   "cell_type": "markdown",
   "id": "917071ab-c652-41d0-a321-710e0295119c",
   "metadata": {
    "tags": []
   },
   "source": [
    "# Cleaning data_science Data Frame"
   ]
  },
  {
   "cell_type": "code",
   "execution_count": 205,
   "id": "ad4671c0-15ed-4dd0-9444-0a6af7032fbf",
   "metadata": {
    "tags": []
   },
   "outputs": [],
   "source": [
    "airbnb_df = airbnb_df.drop(['source', 'listing_url', 'scrape_id', 'last_scraped', 'last_scraped', 'name', 'description', 'description', 'neighborhood_overview', 'picture_url', 'host_id', 'host_url', 'host_name', 'host_location', 'host_about', 'host_response_time', 'host_response_rate', 'host_acceptance_rate', 'host_thumbnail_url', 'host_picture_url', 'host_neighbourhood', 'host_listings_count', 'host_total_listings_count', 'host_verifications', 'host_has_profile_pic', 'host_identity_verified', 'neighbourhood', 'neighbourhood_group_cleansed', 'latitude', 'longitude', 'calendar_updated', 'calendar_last_scraped', 'number_of_reviews_ltm', 'number_of_reviews_l30d', 'first_review', 'last_review', 'review_scores_accuracy' , 'review_scores_cleanliness', 'review_scores_checkin', 'review_scores_communication', 'review_scores_location', 'review_scores_value', 'license', 'instant_bookable', 'calculated_host_listings_count', 'calculated_host_listings_count_entire_homes', 'calculated_host_listings_count_private_rooms','minimum_nights', 'maximum_nights', 'minimum_minimum_nights', 'maximum_minimum_nights', 'minimum_maximum_nights', 'maximum_maximum_nights', 'minimum_nights_avg_ntm', 'maximum_nights_avg_ntm', 'has_availability', 'availability_30', 'availability_60', 'availability_90', 'availability_365', 'calculated_host_listings_count_shared_rooms', 'reviews_per_month', 'property_type', 'amenities', 'host_since'], axis=1)"
   ]
  },
  {
   "cell_type": "code",
   "execution_count": 206,
   "id": "54186353-9925-4f5e-bbe9-a352c8b116c2",
   "metadata": {
    "tags": []
   },
   "outputs": [],
   "source": [
    "airbnb_df = airbnb_df.dropna(axis=1, how='all')"
   ]
  },
  {
   "cell_type": "code",
   "execution_count": 207,
   "id": "0d7f8224-7b68-445a-a5b8-be7ca109e6b3",
   "metadata": {
    "tags": []
   },
   "outputs": [
    {
     "data": {
      "text/plain": [
       "Index(['id', 'host_is_superhost', 'neighbourhood_cleansed', 'room_type',\n",
       "       'accommodates', 'bathrooms_text', 'beds', 'price', 'number_of_reviews',\n",
       "       'review_scores_rating'],\n",
       "      dtype='object')"
      ]
     },
     "execution_count": 207,
     "metadata": {},
     "output_type": "execute_result"
    }
   ],
   "source": [
    "airbnb_df.columns"
   ]
  },
  {
   "cell_type": "code",
   "execution_count": 208,
   "id": "9cb05363-0744-4632-b4e0-5ab4313c44f4",
   "metadata": {
    "tags": []
   },
   "outputs": [
    {
     "data": {
      "text/html": [
       "<div>\n",
       "<style scoped>\n",
       "    .dataframe tbody tr th:only-of-type {\n",
       "        vertical-align: middle;\n",
       "    }\n",
       "\n",
       "    .dataframe tbody tr th {\n",
       "        vertical-align: top;\n",
       "    }\n",
       "\n",
       "    .dataframe thead th {\n",
       "        text-align: right;\n",
       "    }\n",
       "</style>\n",
       "<table border=\"1\" class=\"dataframe\">\n",
       "  <thead>\n",
       "    <tr style=\"text-align: right;\">\n",
       "      <th></th>\n",
       "      <th>id</th>\n",
       "      <th>host_is_superhost</th>\n",
       "      <th>neighbourhood_cleansed</th>\n",
       "      <th>room_type</th>\n",
       "      <th>accommodates</th>\n",
       "      <th>bathrooms_text</th>\n",
       "      <th>beds</th>\n",
       "      <th>price</th>\n",
       "      <th>number_of_reviews</th>\n",
       "      <th>review_scores_rating</th>\n",
       "    </tr>\n",
       "  </thead>\n",
       "  <tbody>\n",
       "    <tr>\n",
       "      <th>0</th>\n",
       "      <td>35797</td>\n",
       "      <td>f</td>\n",
       "      <td>Cuajimalpa de Morelos</td>\n",
       "      <td>Entire home/apt</td>\n",
       "      <td>2</td>\n",
       "      <td>1 bath</td>\n",
       "      <td>1.0</td>\n",
       "      <td>$3,390.00</td>\n",
       "      <td>0</td>\n",
       "      <td>NaN</td>\n",
       "    </tr>\n",
       "    <tr>\n",
       "      <th>1</th>\n",
       "      <td>44616</td>\n",
       "      <td>f</td>\n",
       "      <td>Cuauhtémoc</td>\n",
       "      <td>Entire home/apt</td>\n",
       "      <td>14</td>\n",
       "      <td>5.5 baths</td>\n",
       "      <td>8.0</td>\n",
       "      <td>$18,000.00</td>\n",
       "      <td>64</td>\n",
       "      <td>4.58</td>\n",
       "    </tr>\n",
       "    <tr>\n",
       "      <th>2</th>\n",
       "      <td>1441434</td>\n",
       "      <td>t</td>\n",
       "      <td>Cuauhtémoc</td>\n",
       "      <td>Entire home/apt</td>\n",
       "      <td>2</td>\n",
       "      <td>1.5 baths</td>\n",
       "      <td>1.0</td>\n",
       "      <td>$3,350.00</td>\n",
       "      <td>221</td>\n",
       "      <td>4.90</td>\n",
       "    </tr>\n",
       "    <tr>\n",
       "      <th>3</th>\n",
       "      <td>607833</td>\n",
       "      <td>f</td>\n",
       "      <td>Gustavo A. Madero</td>\n",
       "      <td>Private room</td>\n",
       "      <td>2</td>\n",
       "      <td>1 bath</td>\n",
       "      <td>1.0</td>\n",
       "      <td>$339.00</td>\n",
       "      <td>6</td>\n",
       "      <td>4.83</td>\n",
       "    </tr>\n",
       "    <tr>\n",
       "      <th>4</th>\n",
       "      <td>609012</td>\n",
       "      <td>f</td>\n",
       "      <td>Cuauhtémoc</td>\n",
       "      <td>Entire home/apt</td>\n",
       "      <td>2</td>\n",
       "      <td>1.5 baths</td>\n",
       "      <td>2.0</td>\n",
       "      <td>$1,273.00</td>\n",
       "      <td>22</td>\n",
       "      <td>4.67</td>\n",
       "    </tr>\n",
       "    <tr>\n",
       "      <th>...</th>\n",
       "      <td>...</td>\n",
       "      <td>...</td>\n",
       "      <td>...</td>\n",
       "      <td>...</td>\n",
       "      <td>...</td>\n",
       "      <td>...</td>\n",
       "      <td>...</td>\n",
       "      <td>...</td>\n",
       "      <td>...</td>\n",
       "      <td>...</td>\n",
       "    </tr>\n",
       "    <tr>\n",
       "      <th>26755</th>\n",
       "      <td>1052851736384847931</td>\n",
       "      <td>f</td>\n",
       "      <td>Benito Juárez</td>\n",
       "      <td>Entire home/apt</td>\n",
       "      <td>2</td>\n",
       "      <td>1 bath</td>\n",
       "      <td>1.0</td>\n",
       "      <td>$970.00</td>\n",
       "      <td>0</td>\n",
       "      <td>NaN</td>\n",
       "    </tr>\n",
       "    <tr>\n",
       "      <th>26756</th>\n",
       "      <td>1052862129515501207</td>\n",
       "      <td>f</td>\n",
       "      <td>Cuauhtémoc</td>\n",
       "      <td>Private room</td>\n",
       "      <td>2</td>\n",
       "      <td>1 bath</td>\n",
       "      <td>1.0</td>\n",
       "      <td>$175.00</td>\n",
       "      <td>0</td>\n",
       "      <td>NaN</td>\n",
       "    </tr>\n",
       "    <tr>\n",
       "      <th>26757</th>\n",
       "      <td>1052874102314225353</td>\n",
       "      <td>f</td>\n",
       "      <td>Cuauhtémoc</td>\n",
       "      <td>Entire home/apt</td>\n",
       "      <td>5</td>\n",
       "      <td>2 baths</td>\n",
       "      <td>3.0</td>\n",
       "      <td>$1,166.00</td>\n",
       "      <td>0</td>\n",
       "      <td>NaN</td>\n",
       "    </tr>\n",
       "    <tr>\n",
       "      <th>26758</th>\n",
       "      <td>1052898145299209233</td>\n",
       "      <td>f</td>\n",
       "      <td>Cuauhtémoc</td>\n",
       "      <td>Private room</td>\n",
       "      <td>2</td>\n",
       "      <td>1 bath</td>\n",
       "      <td>1.0</td>\n",
       "      <td>$286.00</td>\n",
       "      <td>0</td>\n",
       "      <td>NaN</td>\n",
       "    </tr>\n",
       "    <tr>\n",
       "      <th>26759</th>\n",
       "      <td>1052927676643283947</td>\n",
       "      <td>f</td>\n",
       "      <td>Benito Juárez</td>\n",
       "      <td>Entire home/apt</td>\n",
       "      <td>2</td>\n",
       "      <td>1 bath</td>\n",
       "      <td>NaN</td>\n",
       "      <td>$800.00</td>\n",
       "      <td>0</td>\n",
       "      <td>NaN</td>\n",
       "    </tr>\n",
       "  </tbody>\n",
       "</table>\n",
       "<p>26760 rows × 10 columns</p>\n",
       "</div>"
      ],
      "text/plain": [
       "                        id host_is_superhost neighbourhood_cleansed  \\\n",
       "0                    35797                 f  Cuajimalpa de Morelos   \n",
       "1                    44616                 f             Cuauhtémoc   \n",
       "2                  1441434                 t             Cuauhtémoc   \n",
       "3                   607833                 f      Gustavo A. Madero   \n",
       "4                   609012                 f             Cuauhtémoc   \n",
       "...                    ...               ...                    ...   \n",
       "26755  1052851736384847931                 f          Benito Juárez   \n",
       "26756  1052862129515501207                 f             Cuauhtémoc   \n",
       "26757  1052874102314225353                 f             Cuauhtémoc   \n",
       "26758  1052898145299209233                 f             Cuauhtémoc   \n",
       "26759  1052927676643283947                 f          Benito Juárez   \n",
       "\n",
       "             room_type  accommodates bathrooms_text  beds       price  \\\n",
       "0      Entire home/apt             2         1 bath   1.0   $3,390.00   \n",
       "1      Entire home/apt            14      5.5 baths   8.0  $18,000.00   \n",
       "2      Entire home/apt             2      1.5 baths   1.0   $3,350.00   \n",
       "3         Private room             2         1 bath   1.0     $339.00   \n",
       "4      Entire home/apt             2      1.5 baths   2.0   $1,273.00   \n",
       "...                ...           ...            ...   ...         ...   \n",
       "26755  Entire home/apt             2         1 bath   1.0     $970.00   \n",
       "26756     Private room             2         1 bath   1.0     $175.00   \n",
       "26757  Entire home/apt             5        2 baths   3.0   $1,166.00   \n",
       "26758     Private room             2         1 bath   1.0     $286.00   \n",
       "26759  Entire home/apt             2         1 bath   NaN     $800.00   \n",
       "\n",
       "       number_of_reviews  review_scores_rating  \n",
       "0                      0                   NaN  \n",
       "1                     64                  4.58  \n",
       "2                    221                  4.90  \n",
       "3                      6                  4.83  \n",
       "4                     22                  4.67  \n",
       "...                  ...                   ...  \n",
       "26755                  0                   NaN  \n",
       "26756                  0                   NaN  \n",
       "26757                  0                   NaN  \n",
       "26758                  0                   NaN  \n",
       "26759                  0                   NaN  \n",
       "\n",
       "[26760 rows x 10 columns]"
      ]
     },
     "execution_count": 208,
     "metadata": {},
     "output_type": "execute_result"
    }
   ],
   "source": [
    "airbnb_df"
   ]
  },
  {
   "cell_type": "code",
   "execution_count": 209,
   "id": "fc3af6c8-4eaa-4d3d-83eb-96d38451a37c",
   "metadata": {
    "tags": []
   },
   "outputs": [
    {
     "name": "stdout",
     "output_type": "stream",
     "text": [
      "Column names: \n",
      " Index(['id', 'host_is_superhost', 'neighbourhood_cleansed', 'room_type',\n",
      "       'accommodates', 'bathrooms_text', 'beds', 'price', 'number_of_reviews',\n",
      "       'review_scores_rating'],\n",
      "      dtype='object')\n",
      "\n",
      "Dimensions: (26760, 10)\n",
      "\n",
      "<class 'pandas.core.frame.DataFrame'>\n",
      "RangeIndex: 26760 entries, 0 to 26759\n",
      "Data columns (total 10 columns):\n",
      " #   Column                  Non-Null Count  Dtype  \n",
      "---  ------                  --------------  -----  \n",
      " 0   id                      26760 non-null  int64  \n",
      " 1   host_is_superhost       26522 non-null  object \n",
      " 2   neighbourhood_cleansed  26760 non-null  object \n",
      " 3   room_type               26760 non-null  object \n",
      " 4   accommodates            26760 non-null  int64  \n",
      " 5   bathrooms_text          26739 non-null  object \n",
      " 6   beds                    26366 non-null  float64\n",
      " 7   price                   25729 non-null  object \n",
      " 8   number_of_reviews       26760 non-null  int64  \n",
      " 9   review_scores_rating    22967 non-null  float64\n",
      "dtypes: float64(2), int64(3), object(5)\n",
      "memory usage: 2.0+ MB\n",
      "None\n"
     ]
    },
    {
     "data": {
      "text/html": [
       "<div>\n",
       "<style scoped>\n",
       "    .dataframe tbody tr th:only-of-type {\n",
       "        vertical-align: middle;\n",
       "    }\n",
       "\n",
       "    .dataframe tbody tr th {\n",
       "        vertical-align: top;\n",
       "    }\n",
       "\n",
       "    .dataframe thead th {\n",
       "        text-align: right;\n",
       "    }\n",
       "</style>\n",
       "<table border=\"1\" class=\"dataframe\">\n",
       "  <thead>\n",
       "    <tr style=\"text-align: right;\">\n",
       "      <th></th>\n",
       "      <th>id</th>\n",
       "      <th>host_is_superhost</th>\n",
       "      <th>neighbourhood_cleansed</th>\n",
       "      <th>room_type</th>\n",
       "      <th>accommodates</th>\n",
       "      <th>bathrooms_text</th>\n",
       "      <th>beds</th>\n",
       "      <th>price</th>\n",
       "      <th>number_of_reviews</th>\n",
       "      <th>review_scores_rating</th>\n",
       "    </tr>\n",
       "  </thead>\n",
       "  <tbody>\n",
       "    <tr>\n",
       "      <th>0</th>\n",
       "      <td>35797</td>\n",
       "      <td>f</td>\n",
       "      <td>Cuajimalpa de Morelos</td>\n",
       "      <td>Entire home/apt</td>\n",
       "      <td>2</td>\n",
       "      <td>1 bath</td>\n",
       "      <td>1.0</td>\n",
       "      <td>$3,390.00</td>\n",
       "      <td>0</td>\n",
       "      <td>NaN</td>\n",
       "    </tr>\n",
       "    <tr>\n",
       "      <th>1</th>\n",
       "      <td>44616</td>\n",
       "      <td>f</td>\n",
       "      <td>Cuauhtémoc</td>\n",
       "      <td>Entire home/apt</td>\n",
       "      <td>14</td>\n",
       "      <td>5.5 baths</td>\n",
       "      <td>8.0</td>\n",
       "      <td>$18,000.00</td>\n",
       "      <td>64</td>\n",
       "      <td>4.58</td>\n",
       "    </tr>\n",
       "    <tr>\n",
       "      <th>2</th>\n",
       "      <td>1441434</td>\n",
       "      <td>t</td>\n",
       "      <td>Cuauhtémoc</td>\n",
       "      <td>Entire home/apt</td>\n",
       "      <td>2</td>\n",
       "      <td>1.5 baths</td>\n",
       "      <td>1.0</td>\n",
       "      <td>$3,350.00</td>\n",
       "      <td>221</td>\n",
       "      <td>4.90</td>\n",
       "    </tr>\n",
       "    <tr>\n",
       "      <th>3</th>\n",
       "      <td>607833</td>\n",
       "      <td>f</td>\n",
       "      <td>Gustavo A. Madero</td>\n",
       "      <td>Private room</td>\n",
       "      <td>2</td>\n",
       "      <td>1 bath</td>\n",
       "      <td>1.0</td>\n",
       "      <td>$339.00</td>\n",
       "      <td>6</td>\n",
       "      <td>4.83</td>\n",
       "    </tr>\n",
       "    <tr>\n",
       "      <th>4</th>\n",
       "      <td>609012</td>\n",
       "      <td>f</td>\n",
       "      <td>Cuauhtémoc</td>\n",
       "      <td>Entire home/apt</td>\n",
       "      <td>2</td>\n",
       "      <td>1.5 baths</td>\n",
       "      <td>2.0</td>\n",
       "      <td>$1,273.00</td>\n",
       "      <td>22</td>\n",
       "      <td>4.67</td>\n",
       "    </tr>\n",
       "    <tr>\n",
       "      <th>5</th>\n",
       "      <td>1462549</td>\n",
       "      <td>t</td>\n",
       "      <td>Miguel Hidalgo</td>\n",
       "      <td>Entire home/apt</td>\n",
       "      <td>2</td>\n",
       "      <td>2 baths</td>\n",
       "      <td>2.0</td>\n",
       "      <td>$1,002.00</td>\n",
       "      <td>99</td>\n",
       "      <td>4.90</td>\n",
       "    </tr>\n",
       "    <tr>\n",
       "      <th>6</th>\n",
       "      <td>61792</td>\n",
       "      <td>t</td>\n",
       "      <td>Cuauhtémoc</td>\n",
       "      <td>Private room</td>\n",
       "      <td>2</td>\n",
       "      <td>1 private bath</td>\n",
       "      <td>1.0</td>\n",
       "      <td>$1,018.00</td>\n",
       "      <td>64</td>\n",
       "      <td>4.92</td>\n",
       "    </tr>\n",
       "    <tr>\n",
       "      <th>7</th>\n",
       "      <td>1476127</td>\n",
       "      <td>t</td>\n",
       "      <td>Benito Juárez</td>\n",
       "      <td>Private room</td>\n",
       "      <td>2</td>\n",
       "      <td>1 private bath</td>\n",
       "      <td>1.0</td>\n",
       "      <td>$950.00</td>\n",
       "      <td>237</td>\n",
       "      <td>4.97</td>\n",
       "    </tr>\n",
       "    <tr>\n",
       "      <th>8</th>\n",
       "      <td>67703</td>\n",
       "      <td>f</td>\n",
       "      <td>Cuauhtémoc</td>\n",
       "      <td>Entire home/apt</td>\n",
       "      <td>4</td>\n",
       "      <td>1 bath</td>\n",
       "      <td>2.0</td>\n",
       "      <td>$1,794.00</td>\n",
       "      <td>46</td>\n",
       "      <td>4.89</td>\n",
       "    </tr>\n",
       "    <tr>\n",
       "      <th>9</th>\n",
       "      <td>1483498</td>\n",
       "      <td>t</td>\n",
       "      <td>Cuauhtémoc</td>\n",
       "      <td>Entire home/apt</td>\n",
       "      <td>4</td>\n",
       "      <td>1.5 baths</td>\n",
       "      <td>2.0</td>\n",
       "      <td>$1,002.00</td>\n",
       "      <td>244</td>\n",
       "      <td>4.79</td>\n",
       "    </tr>\n",
       "  </tbody>\n",
       "</table>\n",
       "</div>"
      ],
      "text/plain": [
       "        id host_is_superhost neighbourhood_cleansed        room_type  \\\n",
       "0    35797                 f  Cuajimalpa de Morelos  Entire home/apt   \n",
       "1    44616                 f             Cuauhtémoc  Entire home/apt   \n",
       "2  1441434                 t             Cuauhtémoc  Entire home/apt   \n",
       "3   607833                 f      Gustavo A. Madero     Private room   \n",
       "4   609012                 f             Cuauhtémoc  Entire home/apt   \n",
       "5  1462549                 t         Miguel Hidalgo  Entire home/apt   \n",
       "6    61792                 t             Cuauhtémoc     Private room   \n",
       "7  1476127                 t          Benito Juárez     Private room   \n",
       "8    67703                 f             Cuauhtémoc  Entire home/apt   \n",
       "9  1483498                 t             Cuauhtémoc  Entire home/apt   \n",
       "\n",
       "   accommodates  bathrooms_text  beds       price  number_of_reviews  \\\n",
       "0             2          1 bath   1.0   $3,390.00                  0   \n",
       "1            14       5.5 baths   8.0  $18,000.00                 64   \n",
       "2             2       1.5 baths   1.0   $3,350.00                221   \n",
       "3             2          1 bath   1.0     $339.00                  6   \n",
       "4             2       1.5 baths   2.0   $1,273.00                 22   \n",
       "5             2         2 baths   2.0   $1,002.00                 99   \n",
       "6             2  1 private bath   1.0   $1,018.00                 64   \n",
       "7             2  1 private bath   1.0     $950.00                237   \n",
       "8             4          1 bath   2.0   $1,794.00                 46   \n",
       "9             4       1.5 baths   2.0   $1,002.00                244   \n",
       "\n",
       "   review_scores_rating  \n",
       "0                   NaN  \n",
       "1                  4.58  \n",
       "2                  4.90  \n",
       "3                  4.83  \n",
       "4                  4.67  \n",
       "5                  4.90  \n",
       "6                  4.92  \n",
       "7                  4.97  \n",
       "8                  4.89  \n",
       "9                  4.79  "
      ]
     },
     "execution_count": 209,
     "metadata": {},
     "output_type": "execute_result"
    }
   ],
   "source": [
    "#Getting initial overview of data frame\n",
    "data_frame_overview(airbnb_df)"
   ]
  },
  {
   "cell_type": "code",
   "execution_count": 210,
   "id": "53556663-9c30-4411-8a96-bc8a339d7723",
   "metadata": {},
   "outputs": [],
   "source": [
    "airbnb_df = airbnb_df.dropna(subset=['price'])"
   ]
  },
  {
   "cell_type": "code",
   "execution_count": 211,
   "id": "087cfe8f-f89f-4a79-8aa8-1d36d096f517",
   "metadata": {
    "tags": []
   },
   "outputs": [
    {
     "name": "stdout",
     "output_type": "stream",
     "text": [
      "Total null values per row: \n",
      "0        1\n",
      "1        0\n",
      "2        0\n",
      "3        0\n",
      "4        0\n",
      "        ..\n",
      "26755    1\n",
      "26756    1\n",
      "26757    1\n",
      "26758    1\n",
      "26759    2\n",
      "Length: 25729, dtype: int64\n",
      "\n",
      "Total null values per column: \n",
      "id                           0\n",
      "host_is_superhost          235\n",
      "neighbourhood_cleansed       0\n",
      "room_type                    0\n",
      "accommodates                 0\n",
      "bathrooms_text              19\n",
      "beds                       378\n",
      "price                        0\n",
      "number_of_reviews            0\n",
      "review_scores_rating      3456\n",
      "dtype: int64\n",
      "\n"
     ]
    }
   ],
   "source": [
    "null_check(airbnb_df)"
   ]
  },
  {
   "cell_type": "code",
   "execution_count": 212,
   "id": "e362bee9-3e96-42aa-a7c1-ddd7f18a35d6",
   "metadata": {
    "tags": []
   },
   "outputs": [
    {
     "data": {
      "text/html": [
       "<div>\n",
       "<style scoped>\n",
       "    .dataframe tbody tr th:only-of-type {\n",
       "        vertical-align: middle;\n",
       "    }\n",
       "\n",
       "    .dataframe tbody tr th {\n",
       "        vertical-align: top;\n",
       "    }\n",
       "\n",
       "    .dataframe thead th {\n",
       "        text-align: right;\n",
       "    }\n",
       "</style>\n",
       "<table border=\"1\" class=\"dataframe\">\n",
       "  <thead>\n",
       "    <tr style=\"text-align: right;\">\n",
       "      <th></th>\n",
       "      <th>id</th>\n",
       "      <th>host_is_superhost</th>\n",
       "      <th>neighbourhood_cleansed</th>\n",
       "      <th>room_type</th>\n",
       "      <th>accommodates</th>\n",
       "      <th>bathrooms_text</th>\n",
       "      <th>beds</th>\n",
       "      <th>price</th>\n",
       "      <th>number_of_reviews</th>\n",
       "      <th>review_scores_rating</th>\n",
       "    </tr>\n",
       "  </thead>\n",
       "  <tbody>\n",
       "    <tr>\n",
       "      <th>0</th>\n",
       "      <td>35797</td>\n",
       "      <td>f</td>\n",
       "      <td>Cuajimalpa de Morelos</td>\n",
       "      <td>Entire home/apt</td>\n",
       "      <td>2</td>\n",
       "      <td>1 bath</td>\n",
       "      <td>1.0</td>\n",
       "      <td>$3,390.00</td>\n",
       "      <td>0</td>\n",
       "      <td>NaN</td>\n",
       "    </tr>\n",
       "    <tr>\n",
       "      <th>1</th>\n",
       "      <td>44616</td>\n",
       "      <td>f</td>\n",
       "      <td>Cuauhtémoc</td>\n",
       "      <td>Entire home/apt</td>\n",
       "      <td>14</td>\n",
       "      <td>5.5 baths</td>\n",
       "      <td>8.0</td>\n",
       "      <td>$18,000.00</td>\n",
       "      <td>64</td>\n",
       "      <td>4.58</td>\n",
       "    </tr>\n",
       "    <tr>\n",
       "      <th>2</th>\n",
       "      <td>1441434</td>\n",
       "      <td>t</td>\n",
       "      <td>Cuauhtémoc</td>\n",
       "      <td>Entire home/apt</td>\n",
       "      <td>2</td>\n",
       "      <td>1.5 baths</td>\n",
       "      <td>1.0</td>\n",
       "      <td>$3,350.00</td>\n",
       "      <td>221</td>\n",
       "      <td>4.90</td>\n",
       "    </tr>\n",
       "    <tr>\n",
       "      <th>3</th>\n",
       "      <td>607833</td>\n",
       "      <td>f</td>\n",
       "      <td>Gustavo A. Madero</td>\n",
       "      <td>Private room</td>\n",
       "      <td>2</td>\n",
       "      <td>1 bath</td>\n",
       "      <td>1.0</td>\n",
       "      <td>$339.00</td>\n",
       "      <td>6</td>\n",
       "      <td>4.83</td>\n",
       "    </tr>\n",
       "    <tr>\n",
       "      <th>4</th>\n",
       "      <td>609012</td>\n",
       "      <td>f</td>\n",
       "      <td>Cuauhtémoc</td>\n",
       "      <td>Entire home/apt</td>\n",
       "      <td>2</td>\n",
       "      <td>1.5 baths</td>\n",
       "      <td>2.0</td>\n",
       "      <td>$1,273.00</td>\n",
       "      <td>22</td>\n",
       "      <td>4.67</td>\n",
       "    </tr>\n",
       "    <tr>\n",
       "      <th>...</th>\n",
       "      <td>...</td>\n",
       "      <td>...</td>\n",
       "      <td>...</td>\n",
       "      <td>...</td>\n",
       "      <td>...</td>\n",
       "      <td>...</td>\n",
       "      <td>...</td>\n",
       "      <td>...</td>\n",
       "      <td>...</td>\n",
       "      <td>...</td>\n",
       "    </tr>\n",
       "    <tr>\n",
       "      <th>26755</th>\n",
       "      <td>1052851736384847931</td>\n",
       "      <td>f</td>\n",
       "      <td>Benito Juárez</td>\n",
       "      <td>Entire home/apt</td>\n",
       "      <td>2</td>\n",
       "      <td>1 bath</td>\n",
       "      <td>1.0</td>\n",
       "      <td>$970.00</td>\n",
       "      <td>0</td>\n",
       "      <td>NaN</td>\n",
       "    </tr>\n",
       "    <tr>\n",
       "      <th>26756</th>\n",
       "      <td>1052862129515501207</td>\n",
       "      <td>f</td>\n",
       "      <td>Cuauhtémoc</td>\n",
       "      <td>Private room</td>\n",
       "      <td>2</td>\n",
       "      <td>1 bath</td>\n",
       "      <td>1.0</td>\n",
       "      <td>$175.00</td>\n",
       "      <td>0</td>\n",
       "      <td>NaN</td>\n",
       "    </tr>\n",
       "    <tr>\n",
       "      <th>26757</th>\n",
       "      <td>1052874102314225353</td>\n",
       "      <td>f</td>\n",
       "      <td>Cuauhtémoc</td>\n",
       "      <td>Entire home/apt</td>\n",
       "      <td>5</td>\n",
       "      <td>2 baths</td>\n",
       "      <td>3.0</td>\n",
       "      <td>$1,166.00</td>\n",
       "      <td>0</td>\n",
       "      <td>NaN</td>\n",
       "    </tr>\n",
       "    <tr>\n",
       "      <th>26758</th>\n",
       "      <td>1052898145299209233</td>\n",
       "      <td>f</td>\n",
       "      <td>Cuauhtémoc</td>\n",
       "      <td>Private room</td>\n",
       "      <td>2</td>\n",
       "      <td>1 bath</td>\n",
       "      <td>1.0</td>\n",
       "      <td>$286.00</td>\n",
       "      <td>0</td>\n",
       "      <td>NaN</td>\n",
       "    </tr>\n",
       "    <tr>\n",
       "      <th>26759</th>\n",
       "      <td>1052927676643283947</td>\n",
       "      <td>f</td>\n",
       "      <td>Benito Juárez</td>\n",
       "      <td>Entire home/apt</td>\n",
       "      <td>2</td>\n",
       "      <td>1 bath</td>\n",
       "      <td>NaN</td>\n",
       "      <td>$800.00</td>\n",
       "      <td>0</td>\n",
       "      <td>NaN</td>\n",
       "    </tr>\n",
       "  </tbody>\n",
       "</table>\n",
       "<p>25729 rows × 10 columns</p>\n",
       "</div>"
      ],
      "text/plain": [
       "                        id host_is_superhost neighbourhood_cleansed  \\\n",
       "0                    35797                 f  Cuajimalpa de Morelos   \n",
       "1                    44616                 f             Cuauhtémoc   \n",
       "2                  1441434                 t             Cuauhtémoc   \n",
       "3                   607833                 f      Gustavo A. Madero   \n",
       "4                   609012                 f             Cuauhtémoc   \n",
       "...                    ...               ...                    ...   \n",
       "26755  1052851736384847931                 f          Benito Juárez   \n",
       "26756  1052862129515501207                 f             Cuauhtémoc   \n",
       "26757  1052874102314225353                 f             Cuauhtémoc   \n",
       "26758  1052898145299209233                 f             Cuauhtémoc   \n",
       "26759  1052927676643283947                 f          Benito Juárez   \n",
       "\n",
       "             room_type  accommodates bathrooms_text  beds       price  \\\n",
       "0      Entire home/apt             2         1 bath   1.0   $3,390.00   \n",
       "1      Entire home/apt            14      5.5 baths   8.0  $18,000.00   \n",
       "2      Entire home/apt             2      1.5 baths   1.0   $3,350.00   \n",
       "3         Private room             2         1 bath   1.0     $339.00   \n",
       "4      Entire home/apt             2      1.5 baths   2.0   $1,273.00   \n",
       "...                ...           ...            ...   ...         ...   \n",
       "26755  Entire home/apt             2         1 bath   1.0     $970.00   \n",
       "26756     Private room             2         1 bath   1.0     $175.00   \n",
       "26757  Entire home/apt             5        2 baths   3.0   $1,166.00   \n",
       "26758     Private room             2         1 bath   1.0     $286.00   \n",
       "26759  Entire home/apt             2         1 bath   NaN     $800.00   \n",
       "\n",
       "       number_of_reviews  review_scores_rating  \n",
       "0                      0                   NaN  \n",
       "1                     64                  4.58  \n",
       "2                    221                  4.90  \n",
       "3                      6                  4.83  \n",
       "4                     22                  4.67  \n",
       "...                  ...                   ...  \n",
       "26755                  0                   NaN  \n",
       "26756                  0                   NaN  \n",
       "26757                  0                   NaN  \n",
       "26758                  0                   NaN  \n",
       "26759                  0                   NaN  \n",
       "\n",
       "[25729 rows x 10 columns]"
      ]
     },
     "execution_count": 212,
     "metadata": {},
     "output_type": "execute_result"
    }
   ],
   "source": [
    "airbnb_df"
   ]
  },
  {
   "cell_type": "code",
   "execution_count": 213,
   "id": "0f200dab-fd30-44e7-99a9-779ffdf0fc6e",
   "metadata": {
    "tags": []
   },
   "outputs": [
    {
     "name": "stderr",
     "output_type": "stream",
     "text": [
      "C:\\Users\\vonke\\AppData\\Local\\Temp\\ipykernel_4324\\694601862.py:1: SettingWithCopyWarning: \n",
      "A value is trying to be set on a copy of a slice from a DataFrame.\n",
      "Try using .loc[row_indexer,col_indexer] = value instead\n",
      "\n",
      "See the caveats in the documentation: https://pandas.pydata.org/pandas-docs/stable/user_guide/indexing.html#returning-a-view-versus-a-copy\n",
      "  airbnb_df['beds'] = np.where(pd.isnull(airbnb_df['beds']), np.floor(airbnb_df['accommodates'] / 2), airbnb_df['beds']).astype(int)\n",
      "C:\\Users\\vonke\\AppData\\Local\\Temp\\ipykernel_4324\\694601862.py:2: SettingWithCopyWarning: \n",
      "A value is trying to be set on a copy of a slice from a DataFrame.\n",
      "Try using .loc[row_indexer,col_indexer] = value instead\n",
      "\n",
      "See the caveats in the documentation: https://pandas.pydata.org/pandas-docs/stable/user_guide/indexing.html#returning-a-view-versus-a-copy\n",
      "  airbnb_df['host_is_superhost'] = airbnb_df['host_is_superhost'].fillna('f')\n",
      "C:\\Users\\vonke\\AppData\\Local\\Temp\\ipykernel_4324\\694601862.py:4: SettingWithCopyWarning: \n",
      "A value is trying to be set on a copy of a slice from a DataFrame.\n",
      "Try using .loc[row_indexer,col_indexer] = value instead\n",
      "\n",
      "See the caveats in the documentation: https://pandas.pydata.org/pandas-docs/stable/user_guide/indexing.html#returning-a-view-versus-a-copy\n",
      "  airbnb_df['review_scores_rating'] = airbnb_df['review_scores_rating'].fillna(0)\n"
     ]
    },
    {
     "ename": "NameError",
     "evalue": "name 'df' is not defined",
     "output_type": "error",
     "traceback": [
      "\u001b[1;31m---------------------------------------------------------------------------\u001b[0m",
      "\u001b[1;31mNameError\u001b[0m                                 Traceback (most recent call last)",
      "Cell \u001b[1;32mIn[213], line 5\u001b[0m\n\u001b[0;32m      3\u001b[0m airbnb_df \u001b[38;5;241m=\u001b[39m airbnb_df\u001b[38;5;241m.\u001b[39mdropna(subset\u001b[38;5;241m=\u001b[39m[\u001b[38;5;124m'\u001b[39m\u001b[38;5;124mbathrooms_text\u001b[39m\u001b[38;5;124m'\u001b[39m])\n\u001b[0;32m      4\u001b[0m airbnb_df[\u001b[38;5;124m'\u001b[39m\u001b[38;5;124mreview_scores_rating\u001b[39m\u001b[38;5;124m'\u001b[39m] \u001b[38;5;241m=\u001b[39m airbnb_df[\u001b[38;5;124m'\u001b[39m\u001b[38;5;124mreview_scores_rating\u001b[39m\u001b[38;5;124m'\u001b[39m]\u001b[38;5;241m.\u001b[39mfillna(\u001b[38;5;241m0\u001b[39m)\n\u001b[1;32m----> 5\u001b[0m airbnb_df[\u001b[38;5;124m'\u001b[39m\u001b[38;5;124mbathrooms\u001b[39m\u001b[38;5;124m'\u001b[39m] \u001b[38;5;241m=\u001b[39m df[\u001b[38;5;124m'\u001b[39m\u001b[38;5;124mbathrooms_text\u001b[39m\u001b[38;5;124m'\u001b[39m]\u001b[38;5;241m.\u001b[39mstr\u001b[38;5;241m.\u001b[39mextract(\u001b[38;5;124m'\u001b[39m\u001b[38;5;124m(\u001b[39m\u001b[38;5;124m\\\u001b[39m\u001b[38;5;124md+\u001b[39m\u001b[38;5;124m\\\u001b[39m\u001b[38;5;124m.?\u001b[39m\u001b[38;5;124m\\\u001b[39m\u001b[38;5;124md*)\u001b[39m\u001b[38;5;124m'\u001b[39m)\n",
      "\u001b[1;31mNameError\u001b[0m: name 'df' is not defined"
     ]
    }
   ],
   "source": [
    "airbnb_df['beds'] = np.where(pd.isnull(airbnb_df['beds']), np.floor(airbnb_df['accommodates'] / 2), airbnb_df['beds']).astype(int)\n",
    "airbnb_df['host_is_superhost'] = airbnb_df['host_is_superhost'].fillna('f')\n",
    "airbnb_df = airbnb_df.dropna(subset=['bathrooms_text'])\n",
    "airbnb_df['review_scores_rating'] = airbnb_df['review_scores_rating'].fillna(0)\n",
    "airbnb_df['bathrooms'] = df['bathrooms_text'].str.extract('(\\d+\\.?\\d*)')"
   ]
  },
  {
   "cell_type": "code",
   "execution_count": null,
   "id": "3512dfcd-c5bd-411e-ba57-27c0e39b905d",
   "metadata": {
    "tags": []
   },
   "outputs": [],
   "source": [
    "null_check(airbnb_df)"
   ]
  },
  {
   "cell_type": "code",
   "execution_count": null,
   "id": "5a936fd6-d2d4-4892-8e41-fdddfc7d107b",
   "metadata": {
    "tags": []
   },
   "outputs": [],
   "source": [
    "dup_check(airbnb_df)"
   ]
  },
  {
   "cell_type": "code",
   "execution_count": null,
   "id": "6f07348a-f27b-4afb-9432-aaa4641d58b8",
   "metadata": {
    "tags": []
   },
   "outputs": [],
   "source": [
    "airbnb_df"
   ]
  },
  {
   "cell_type": "code",
   "execution_count": null,
   "id": "3ffcdeb9-18ee-4c8d-9429-d47f0d881676",
   "metadata": {},
   "outputs": [],
   "source": [
    "# airbnb_df.to_csv(\"clean_airbnb_df.csv\")"
   ]
  },
  {
   "cell_type": "code",
   "execution_count": null,
   "id": "78673ea5-974b-465a-8e2b-3e2f36c1f5e8",
   "metadata": {
    "tags": []
   },
   "outputs": [],
   "source": [
    "country_df"
   ]
  },
  {
   "cell_type": "code",
   "execution_count": null,
   "id": "5f6b8e2a-0c8c-44b2-9d62-e1fb30e9490e",
   "metadata": {
    "tags": []
   },
   "outputs": [],
   "source": [
    "country = country_df['country']\n",
    "country"
   ]
  },
  {
   "cell_type": "code",
   "execution_count": null,
   "id": "0fb8e224-b861-4702-bc30-2b92738cc91a",
   "metadata": {
    "tags": []
   },
   "outputs": [],
   "source": [
    "country_id = country_df['country_id']\n",
    "country_id"
   ]
  },
  {
   "cell_type": "code",
   "execution_count": null,
   "id": "f5db9b73-6a7f-4d5a-b44b-9b7084b6b200",
   "metadata": {
    "tags": []
   },
   "outputs": [],
   "source": [
    "country_mapping = dict(zip(country,country_id))\n",
    "country_mapping"
   ]
  },
  {
   "cell_type": "code",
   "execution_count": null,
   "id": "f55b4d17-b0f3-4cb1-bad6-c31847b00880",
   "metadata": {
    "tags": []
   },
   "outputs": [],
   "source": [
    "clean_data_df['country_id'] = clean_data_df['country'].map(country_mapping)"
   ]
  },
  {
   "cell_type": "code",
   "execution_count": null,
   "id": "87bb4d44-b586-420c-8ab7-1be56fe1603c",
   "metadata": {
    "tags": []
   },
   "outputs": [],
   "source": [
    "clean_data_df"
   ]
  },
  {
   "cell_type": "code",
   "execution_count": null,
   "id": "e58f57f0-ffc8-4064-8b41-f72994056424",
   "metadata": {
    "tags": []
   },
   "outputs": [],
   "source": [
    "country_df.to_csv(\"country.csv\")"
   ]
  },
  {
   "cell_type": "code",
   "execution_count": null,
   "id": "c4ce1ac8-6d5d-4b5c-b6b2-11b0e3b65813",
   "metadata": {
    "tags": []
   },
   "outputs": [],
   "source": [
    "job_df"
   ]
  },
  {
   "cell_type": "code",
   "execution_count": null,
   "id": "a194da80-d65a-4462-b486-8271ad40ae2b",
   "metadata": {
    "tags": []
   },
   "outputs": [],
   "source": [
    "job_df.drop_duplicates(inplace=True)"
   ]
  },
  {
   "cell_type": "code",
   "execution_count": null,
   "id": "e7531ab4-78d7-41ad-ac97-377ea0f83961",
   "metadata": {
    "tags": []
   },
   "outputs": [],
   "source": [
    "job_df.reset_index(inplace=True,drop=True)"
   ]
  },
  {
   "cell_type": "code",
   "execution_count": null,
   "id": "f04a21bd-e578-4ac7-846a-53922ffc7d7a",
   "metadata": {
    "tags": []
   },
   "outputs": [],
   "source": [
    "job_df = job_df.sort_values(by='job_category')"
   ]
  },
  {
   "cell_type": "code",
   "execution_count": null,
   "id": "a8cc2678-7972-4975-b4c3-16801a1115e7",
   "metadata": {
    "tags": []
   },
   "outputs": [],
   "source": [
    "job_df.reset_index(inplace=True,drop=True)"
   ]
  },
  {
   "cell_type": "code",
   "execution_count": null,
   "id": "fe27358b-9301-4934-b403-40d7d7c6b89c",
   "metadata": {
    "tags": []
   },
   "outputs": [],
   "source": [
    "job_df['job_id'] = list(range(1,len(job_df)+1))"
   ]
  },
  {
   "cell_type": "code",
   "execution_count": null,
   "id": "ec7708d9-e391-4ae1-9639-3153c637557e",
   "metadata": {
    "tags": []
   },
   "outputs": [],
   "source": [
    "job_df"
   ]
  },
  {
   "cell_type": "code",
   "execution_count": null,
   "id": "81acafbd-1544-4b3e-ade7-7901ac967a08",
   "metadata": {
    "tags": []
   },
   "outputs": [],
   "source": [
    "job_category = job_df['job_category']\n",
    "job_category"
   ]
  },
  {
   "cell_type": "code",
   "execution_count": null,
   "id": "227bc88c-d4d4-4858-b095-91a08363ea7a",
   "metadata": {
    "tags": []
   },
   "outputs": [],
   "source": [
    "job_id = job_df['job_id']\n",
    "job_id"
   ]
  },
  {
   "cell_type": "code",
   "execution_count": null,
   "id": "e644bfe4-2287-435a-a339-8ab29ac6186a",
   "metadata": {
    "tags": []
   },
   "outputs": [],
   "source": [
    "experience_level = job_df['experience_level']\n",
    "experience_level"
   ]
  },
  {
   "cell_type": "code",
   "execution_count": null,
   "id": "d13776d5-08ef-4b4a-90bf-56090de28639",
   "metadata": {
    "tags": []
   },
   "outputs": [],
   "source": [
    "job_mapping = dict(zip(zip(job_df['job_category'], job_df['experience_level']), job_df['job_id']))\n",
    "job_mapping"
   ]
  },
  {
   "cell_type": "code",
   "execution_count": null,
   "id": "a9714172-d44b-4fa7-a9b5-e7e95538c224",
   "metadata": {
    "tags": []
   },
   "outputs": [],
   "source": [
    "def map_job_id(row):\n",
    "    return job_mapping.get((row['job_category'], row['experience_level']))\n",
    "\n",
    "clean_data_df['job_id'] = clean_data_df.apply(map_job_id, axis=1)"
   ]
  },
  {
   "cell_type": "code",
   "execution_count": null,
   "id": "bbdf114c-2ac5-46fb-a763-99f447c732c1",
   "metadata": {
    "tags": []
   },
   "outputs": [],
   "source": [
    "clean_data_df"
   ]
  },
  {
   "cell_type": "code",
   "execution_count": null,
   "id": "01fa627f-384a-4276-a57e-1bbdcf645354",
   "metadata": {},
   "outputs": [],
   "source": [
    "job_df.to_csv(\"job.csv\")"
   ]
  },
  {
   "cell_type": "code",
   "execution_count": null,
   "id": "df5501ea-3ab2-4306-85aa-c21272443c25",
   "metadata": {
    "tags": []
   },
   "outputs": [],
   "source": [
    "work_setting_df = clean_data_df[['work_setting']]"
   ]
  },
  {
   "cell_type": "code",
   "execution_count": null,
   "id": "b4a8d4f4-f37c-469d-9e51-9033c18115e8",
   "metadata": {
    "tags": []
   },
   "outputs": [],
   "source": [
    "work_setting_df"
   ]
  },
  {
   "cell_type": "code",
   "execution_count": null,
   "id": "2785a6be-ca62-4015-9a9e-1c4d0ddb7171",
   "metadata": {
    "tags": []
   },
   "outputs": [],
   "source": [
    "work_setting_df.drop_duplicates(inplace=True)"
   ]
  },
  {
   "cell_type": "code",
   "execution_count": null,
   "id": "20588f25-2849-4482-8316-e288dab7cf51",
   "metadata": {
    "tags": []
   },
   "outputs": [],
   "source": [
    "work_setting_df.reset_index(inplace=True,drop=True)"
   ]
  },
  {
   "cell_type": "code",
   "execution_count": null,
   "id": "502b85e2-2782-453c-a4f8-afd3a2148610",
   "metadata": {
    "tags": []
   },
   "outputs": [],
   "source": [
    "work_setting_df = work_setting_df.sort_values(by='work_setting')"
   ]
  },
  {
   "cell_type": "code",
   "execution_count": null,
   "id": "5efefc7b-4dc3-40b2-9995-11914bedf2a0",
   "metadata": {
    "tags": []
   },
   "outputs": [],
   "source": [
    "work_setting_df.reset_index(inplace=True,drop=True)"
   ]
  },
  {
   "cell_type": "code",
   "execution_count": null,
   "id": "5da1ea5d-5c3b-46a6-b7b2-5d534bafca85",
   "metadata": {
    "tags": []
   },
   "outputs": [],
   "source": [
    "work_setting_df['work_setting_id'] = list(range(1,len(work_setting_df)+1))"
   ]
  },
  {
   "cell_type": "code",
   "execution_count": null,
   "id": "8702f993-b51a-4409-8ff6-074deca53d38",
   "metadata": {
    "tags": []
   },
   "outputs": [],
   "source": [
    "work_setting_df"
   ]
  },
  {
   "cell_type": "code",
   "execution_count": null,
   "id": "3ba48b8a-359e-45d6-a868-c3197f9ec465",
   "metadata": {
    "tags": []
   },
   "outputs": [],
   "source": [
    "work_setting = work_setting_df['work_setting']\n",
    "work_setting"
   ]
  },
  {
   "cell_type": "code",
   "execution_count": null,
   "id": "a8fab7a3-95c1-4e98-af83-da7da7b9f43d",
   "metadata": {
    "tags": []
   },
   "outputs": [],
   "source": [
    "work_setting_id = work_setting_df['work_setting_id']\n",
    "work_setting_id"
   ]
  },
  {
   "cell_type": "code",
   "execution_count": null,
   "id": "9956f398-7941-4d8f-924b-2bee5a050386",
   "metadata": {
    "tags": []
   },
   "outputs": [],
   "source": [
    "work_setting_mapping = dict(zip(work_setting,work_setting_id))\n",
    "work_setting_mapping"
   ]
  },
  {
   "cell_type": "code",
   "execution_count": null,
   "id": "3405175b-7f01-44be-90c7-a02aa60654a9",
   "metadata": {
    "tags": []
   },
   "outputs": [],
   "source": [
    "clean_data_df['work_setting_id'] = clean_data_df['work_setting'].map(work_setting_mapping)"
   ]
  },
  {
   "cell_type": "code",
   "execution_count": null,
   "id": "88530d77-bbbb-49d3-865a-75b5f04098bd",
   "metadata": {
    "tags": []
   },
   "outputs": [],
   "source": [
    "clean_data_df"
   ]
  },
  {
   "cell_type": "code",
   "execution_count": null,
   "id": "3f9bb33a-496e-4b47-8ced-375728fe6dbe",
   "metadata": {},
   "outputs": [],
   "source": [
    "work_setting_df.to_csv(\"work_setting.csv\")"
   ]
  }
 ],
 "metadata": {
  "kernelspec": {
   "display_name": "Python 3 (ipykernel)",
   "language": "python",
   "name": "python3"
  },
  "language_info": {
   "codemirror_mode": {
    "name": "ipython",
    "version": 3
   },
   "file_extension": ".py",
   "mimetype": "text/x-python",
   "name": "python",
   "nbconvert_exporter": "python",
   "pygments_lexer": "ipython3",
   "version": "3.11.5"
  }
 },
 "nbformat": 4,
 "nbformat_minor": 5
}
