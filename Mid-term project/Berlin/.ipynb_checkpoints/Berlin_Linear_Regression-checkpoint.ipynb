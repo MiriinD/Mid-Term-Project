{
 "cells": [
  {
   "cell_type": "code",
   "execution_count": 452,
   "id": "2b0db9ed-9c15-4d74-9c23-6ed9a7366191",
   "metadata": {
    "tags": []
   },
   "outputs": [],
   "source": [
    "import pandas as pd\n",
    "from sklearn.preprocessing import OrdinalEncoder\n",
    "from sklearn.model_selection import train_test_split\n",
    "from sklearn.preprocessing import MinMaxScaler\n",
    "from sklearn.preprocessing import PowerTransformer\n",
    "from sklearn.preprocessing import StandardScaler\n",
    "from sklearn.linear_model import LinearRegression\n",
    "from sklearn.metrics import r2_score\n",
    "import numpy as np\n",
    "import seaborn as sns\n",
    "import matplotlib.pyplot as plt\n",
    "from sklearn.metrics import mean_squared_error as mse, mean_absolute_error as mae\n",
    "\n",
    "url = 'clean_airbnb_df_berlin.csv'\n",
    "df = pd.read_csv(url)"
   ]
  },
  {
   "cell_type": "code",
   "execution_count": 453,
   "id": "0bb93feb-4130-4c6c-93d8-0df5c79346c4",
   "metadata": {
    "tags": []
   },
   "outputs": [],
   "source": [
    "final_df = df"
   ]
  },
  {
   "cell_type": "code",
   "execution_count": 454,
   "id": "9a0da1a4-4d75-4538-88c0-b51c126896f4",
   "metadata": {
    "tags": []
   },
   "outputs": [],
   "source": [
    "final_df = final_df.drop(['Unnamed: 0'], axis=1)"
   ]
  },
  {
   "cell_type": "markdown",
   "id": "f988a0b1-a6e5-4e11-baf9-6f7c0b8c6478",
   "metadata": {},
   "source": [
    "# X-y Splitt"
   ]
  },
  {
   "cell_type": "code",
   "execution_count": 455,
   "id": "d2aaf65e-b764-4abc-be70-0e3d7c658161",
   "metadata": {
    "tags": []
   },
   "outputs": [],
   "source": [
    "X = final_df.drop(columns=['Price'])\n",
    "y = final_df[['Price']]"
   ]
  },
  {
   "cell_type": "markdown",
   "id": "f69c8bd9-b6b4-418d-8bb0-167937f2bc1f",
   "metadata": {},
   "source": [
    "## Train test split"
   ]
  },
  {
   "cell_type": "code",
   "execution_count": 456,
   "id": "8991cb9c-41f9-41b6-8cf2-316046d637ff",
   "metadata": {
    "tags": []
   },
   "outputs": [],
   "source": [
    "X_train, X_test, y_train, y_test = train_test_split(X,y, random_state= 42)"
   ]
  },
  {
   "cell_type": "markdown",
   "id": "3f54a3d2-a606-499b-b1eb-e1532b601caf",
   "metadata": {},
   "source": [
    "### Standardize the data (after the data split!)"
   ]
  },
  {
   "cell_type": "markdown",
   "id": "ad1570b4-6d68-4556-9f2b-e9537882840f",
   "metadata": {},
   "source": [
    "#### MinMaxScaler"
   ]
  },
  {
   "cell_type": "code",
   "execution_count": 457,
   "id": "d6fde213-e902-4bae-aae1-0db641b62377",
   "metadata": {
    "tags": []
   },
   "outputs": [],
   "source": [
    "# MinMaxScaler X_train\n",
    "# scaler1 = MinMaxScaler()\n",
    "# X_train = scaler1.fit_transform(X_train)"
   ]
  },
  {
   "cell_type": "code",
   "execution_count": 458,
   "id": "304268bb-1c03-4256-ad1d-5370fd67360f",
   "metadata": {
    "tags": []
   },
   "outputs": [],
   "source": [
    "# MinMaxScaler X_test\n",
    "# X_test = scaler1.transform(X_test)"
   ]
  },
  {
   "cell_type": "code",
   "execution_count": 459,
   "id": "60a5398d-6203-4dd5-b6d2-564e301de774",
   "metadata": {
    "tags": []
   },
   "outputs": [],
   "source": [
    "#MinMaxScaler y_train\n",
    "# scaler2 = MinMaxScaler()\n",
    "# y_train = scaler1.fit_transform(y_train)"
   ]
  },
  {
   "cell_type": "code",
   "execution_count": 460,
   "id": "507e814d-9c4e-4ee8-bc79-6a17c138b185",
   "metadata": {
    "tags": []
   },
   "outputs": [],
   "source": [
    "#MinMaxScaler y_test\n",
    "# y_test = scaler2.transform(y_test)"
   ]
  },
  {
   "cell_type": "markdown",
   "id": "55c33087-1d11-48b8-accf-f262e0dacfaf",
   "metadata": {},
   "source": [
    "#### PowerTransform"
   ]
  },
  {
   "cell_type": "code",
   "execution_count": 461,
   "id": "52b6e46b-7cfb-4400-a45c-c67deaae2ed3",
   "metadata": {
    "tags": []
   },
   "outputs": [],
   "source": [
    "#PowerTransform X_train\n",
    "pt1 = PowerTransformer()\n",
    "X_train = pt1.fit_transform(X_train)"
   ]
  },
  {
   "cell_type": "code",
   "execution_count": 462,
   "id": "8331c7e7-33d5-46e5-ac40-714f5841f9bd",
   "metadata": {
    "tags": []
   },
   "outputs": [],
   "source": [
    "#PowerTransform X_test\n",
    "X_test = pt1.transform(X_test)"
   ]
  },
  {
   "cell_type": "code",
   "execution_count": 463,
   "id": "b1441d78-5024-4acb-88a5-c4a2852e097e",
   "metadata": {
    "tags": []
   },
   "outputs": [],
   "source": [
    "#PowerTransform y_train\n",
    "pt2 = PowerTransformer()\n",
    "y_train = pt2.fit_transform(y_train)"
   ]
  },
  {
   "cell_type": "code",
   "execution_count": 464,
   "id": "49d82579-c062-40d4-a597-8e32e7df3dc5",
   "metadata": {
    "tags": []
   },
   "outputs": [],
   "source": [
    "#PowerTransform y_test\n",
    "y_test = pt2.transform(y_test)"
   ]
  },
  {
   "cell_type": "markdown",
   "id": "dd463583-3d1d-4e56-9cd1-e01271c7accf",
   "metadata": {},
   "source": [
    "#### StandardScaler"
   ]
  },
  {
   "cell_type": "code",
   "execution_count": 465,
   "id": "74938ada-0594-4273-93dc-ef69c13e5f77",
   "metadata": {
    "tags": []
   },
   "outputs": [],
   "source": [
    "# StandardScaler X_train\n",
    "# scaler1 = StandardScaler()\n",
    "# X_train = scaler1.fit_transform(X_train)"
   ]
  },
  {
   "cell_type": "code",
   "execution_count": 466,
   "id": "416fe7dc-a097-4c6a-b391-947702a91986",
   "metadata": {
    "tags": []
   },
   "outputs": [],
   "source": [
    "# StandardScaler X_test\n",
    "# X_test = scaler1.transform(X_test)"
   ]
  },
  {
   "cell_type": "code",
   "execution_count": 467,
   "id": "b8212682-96cd-4487-b973-7a68dce71111",
   "metadata": {
    "tags": []
   },
   "outputs": [],
   "source": [
    "# StandardScaler y_train\n",
    "# scaler2 = StandardScaler()\n",
    "# y_train = scaler2.fit_transform(y_train)"
   ]
  },
  {
   "cell_type": "code",
   "execution_count": 468,
   "id": "09a8d228-258e-49e7-be2b-6ce51bc8a878",
   "metadata": {
    "tags": []
   },
   "outputs": [],
   "source": [
    "# StandardScaler y_test\n",
    "# y_test = scaler2.transform(y_test)"
   ]
  },
  {
   "cell_type": "markdown",
   "id": "813dcbe4-c584-4568-bd11-54c095ae9878",
   "metadata": {},
   "source": [
    "### Apply linear regression"
   ]
  },
  {
   "cell_type": "code",
   "execution_count": 469,
   "id": "767d87d0-f94a-42c0-ac5f-e9ebaf71416e",
   "metadata": {
    "tags": []
   },
   "outputs": [],
   "source": [
    "ln = LinearRegression()\n",
    "model = ln.fit(X_train, y_train)"
   ]
  },
  {
   "cell_type": "code",
   "execution_count": 470,
   "id": "db690280-d0f0-4aa4-95f0-b5f04da96905",
   "metadata": {
    "tags": []
   },
   "outputs": [
    {
     "data": {
      "text/plain": [
       "array([[ 0.01252287, -0.03204156, -0.04826835,  0.01651712,  0.05901988,\n",
       "        -0.04895188, -0.0709802 , -0.05728034,  0.02616388, -0.01668395,\n",
       "        -0.06197636, -0.08850501,  0.34159692,  0.08156109,  0.10745286,\n",
       "         0.0934498 ,  0.23640235,  0.15623927, -0.12628225, -0.04613813,\n",
       "         0.00692272,  0.07822466, -0.00115147,  0.02965648]])"
      ]
     },
     "execution_count": 470,
     "metadata": {},
     "output_type": "execute_result"
    }
   ],
   "source": [
    "model.coef_"
   ]
  },
  {
   "cell_type": "code",
   "execution_count": 471,
   "id": "6b1811c2-cb54-45c0-b707-3d0faf550065",
   "metadata": {
    "tags": []
   },
   "outputs": [
    {
     "data": {
      "text/plain": [
       "array([-1.06428742e-15])"
      ]
     },
     "execution_count": 471,
     "metadata": {},
     "output_type": "execute_result"
    }
   ],
   "source": [
    "model.intercept_"
   ]
  },
  {
   "cell_type": "markdown",
   "id": "324ac4c2-18a2-4043-b882-a43f88434a56",
   "metadata": {},
   "source": [
    "### Create predictions for the test set"
   ]
  },
  {
   "cell_type": "code",
   "execution_count": 472,
   "id": "d11dfdf6-0668-4c9e-99dd-25bd1c31474e",
   "metadata": {
    "tags": []
   },
   "outputs": [],
   "source": [
    "y_pred = model.predict(X_test)"
   ]
  },
  {
   "cell_type": "code",
   "execution_count": 473,
   "id": "f27dc0e4-f866-4b13-a9fb-ad6588206b6c",
   "metadata": {
    "tags": []
   },
   "outputs": [],
   "source": [
    "# inverse transforming predictions\n",
    "# pt2.inverse_transform(y_pred)"
   ]
  },
  {
   "cell_type": "code",
   "execution_count": 474,
   "id": "d531bd9d-f849-44e0-b0d8-fd3eb59f26e7",
   "metadata": {
    "tags": []
   },
   "outputs": [],
   "source": [
    "y_pred = pd.DataFrame(y_pred)"
   ]
  },
  {
   "cell_type": "code",
   "execution_count": 475,
   "id": "b3665005-d58b-4410-9ac2-5b139c599e21",
   "metadata": {
    "tags": []
   },
   "outputs": [],
   "source": [
    "y_test = pd.DataFrame(y_test)\n",
    "y_test = y_test.reset_index(drop=True)"
   ]
  },
  {
   "cell_type": "code",
   "execution_count": 476,
   "id": "b8ca847d-f5e1-4ea8-b832-62eb4cd10e14",
   "metadata": {
    "tags": []
   },
   "outputs": [],
   "source": [
    "y_test = y_test.rename(columns={0: 'y_test'})"
   ]
  },
  {
   "cell_type": "code",
   "execution_count": 477,
   "id": "ecb1e281-9983-4b86-a71b-916fd764cc98",
   "metadata": {
    "tags": []
   },
   "outputs": [],
   "source": [
    "residuals_df = pd.concat([y_test,y_pred], axis=1)"
   ]
  },
  {
   "cell_type": "code",
   "execution_count": 478,
   "id": "54a2cb66-46b8-4a55-a34a-95cb7e2eb4c5",
   "metadata": {
    "tags": []
   },
   "outputs": [],
   "source": [
    "residuals_df = residuals_df.rename(columns={0: 'y_pred'})"
   ]
  },
  {
   "cell_type": "code",
   "execution_count": 479,
   "id": "0a85fde3-a0d0-4dfe-9aed-603e106749c4",
   "metadata": {
    "tags": []
   },
   "outputs": [],
   "source": [
    "residuals_df['residual'] = residuals_df['y_test'] - residuals_df['y_pred']"
   ]
  },
  {
   "cell_type": "code",
   "execution_count": 480,
   "id": "0c291063-b74a-4065-be3a-696f7ef8073d",
   "metadata": {
    "tags": []
   },
   "outputs": [
    {
     "data": {
      "text/html": [
       "<div>\n",
       "<style scoped>\n",
       "    .dataframe tbody tr th:only-of-type {\n",
       "        vertical-align: middle;\n",
       "    }\n",
       "\n",
       "    .dataframe tbody tr th {\n",
       "        vertical-align: top;\n",
       "    }\n",
       "\n",
       "    .dataframe thead th {\n",
       "        text-align: right;\n",
       "    }\n",
       "</style>\n",
       "<table border=\"1\" class=\"dataframe\">\n",
       "  <thead>\n",
       "    <tr style=\"text-align: right;\">\n",
       "      <th></th>\n",
       "      <th>y_test</th>\n",
       "      <th>y_pred</th>\n",
       "      <th>residual</th>\n",
       "    </tr>\n",
       "  </thead>\n",
       "  <tbody>\n",
       "    <tr>\n",
       "      <th>0</th>\n",
       "      <td>0.640387</td>\n",
       "      <td>-0.623575</td>\n",
       "      <td>1.263962</td>\n",
       "    </tr>\n",
       "    <tr>\n",
       "      <th>1</th>\n",
       "      <td>-0.891074</td>\n",
       "      <td>-0.920543</td>\n",
       "      <td>0.029469</td>\n",
       "    </tr>\n",
       "    <tr>\n",
       "      <th>2</th>\n",
       "      <td>0.174198</td>\n",
       "      <td>-0.056308</td>\n",
       "      <td>0.230506</td>\n",
       "    </tr>\n",
       "    <tr>\n",
       "      <th>3</th>\n",
       "      <td>-1.359101</td>\n",
       "      <td>-0.456679</td>\n",
       "      <td>-0.902422</td>\n",
       "    </tr>\n",
       "    <tr>\n",
       "      <th>4</th>\n",
       "      <td>-0.328812</td>\n",
       "      <td>0.410463</td>\n",
       "      <td>-0.739275</td>\n",
       "    </tr>\n",
       "    <tr>\n",
       "      <th>...</th>\n",
       "      <td>...</td>\n",
       "      <td>...</td>\n",
       "      <td>...</td>\n",
       "    </tr>\n",
       "    <tr>\n",
       "      <th>994</th>\n",
       "      <td>-0.697398</td>\n",
       "      <td>-0.303941</td>\n",
       "      <td>-0.393457</td>\n",
       "    </tr>\n",
       "    <tr>\n",
       "      <th>995</th>\n",
       "      <td>0.032941</td>\n",
       "      <td>0.242840</td>\n",
       "      <td>-0.209899</td>\n",
       "    </tr>\n",
       "    <tr>\n",
       "      <th>996</th>\n",
       "      <td>1.355606</td>\n",
       "      <td>0.996787</td>\n",
       "      <td>0.358819</td>\n",
       "    </tr>\n",
       "    <tr>\n",
       "      <th>997</th>\n",
       "      <td>0.278946</td>\n",
       "      <td>0.050317</td>\n",
       "      <td>0.228629</td>\n",
       "    </tr>\n",
       "    <tr>\n",
       "      <th>998</th>\n",
       "      <td>-0.121723</td>\n",
       "      <td>-0.061212</td>\n",
       "      <td>-0.060511</td>\n",
       "    </tr>\n",
       "  </tbody>\n",
       "</table>\n",
       "<p>999 rows × 3 columns</p>\n",
       "</div>"
      ],
      "text/plain": [
       "       y_test    y_pred  residual\n",
       "0    0.640387 -0.623575  1.263962\n",
       "1   -0.891074 -0.920543  0.029469\n",
       "2    0.174198 -0.056308  0.230506\n",
       "3   -1.359101 -0.456679 -0.902422\n",
       "4   -0.328812  0.410463 -0.739275\n",
       "..        ...       ...       ...\n",
       "994 -0.697398 -0.303941 -0.393457\n",
       "995  0.032941  0.242840 -0.209899\n",
       "996  1.355606  0.996787  0.358819\n",
       "997  0.278946  0.050317  0.228629\n",
       "998 -0.121723 -0.061212 -0.060511\n",
       "\n",
       "[999 rows x 3 columns]"
      ]
     },
     "execution_count": 480,
     "metadata": {},
     "output_type": "execute_result"
    }
   ],
   "source": [
    "residuals_df"
   ]
  },
  {
   "cell_type": "markdown",
   "id": "6935ce1f-e1a1-45b4-969d-d68900380372",
   "metadata": {},
   "source": [
    "### Calculating metrics"
   ]
  },
  {
   "cell_type": "code",
   "execution_count": 481,
   "id": "db78d2ae-3b81-418c-af6e-4d4b83a7cb73",
   "metadata": {
    "tags": []
   },
   "outputs": [
    {
     "data": {
      "text/plain": [
       "-0.009497376178418188"
      ]
     },
     "execution_count": 481,
     "metadata": {},
     "output_type": "execute_result"
    }
   ],
   "source": [
    "mean_error = residuals_df['residual'].mean()\n",
    "mean_error"
   ]
  },
  {
   "cell_type": "code",
   "execution_count": 482,
   "id": "f48f4f4c-90c2-45cb-bf7e-ed0354548e47",
   "metadata": {
    "tags": []
   },
   "outputs": [
    {
     "data": {
      "text/plain": [
       "0.47050279780248555"
      ]
     },
     "execution_count": 482,
     "metadata": {},
     "output_type": "execute_result"
    }
   ],
   "source": [
    "mse(y_test, y_pred)"
   ]
  },
  {
   "cell_type": "code",
   "execution_count": 483,
   "id": "6c0079c7-99a6-4461-97c6-52545fdfa2a4",
   "metadata": {
    "tags": []
   },
   "outputs": [
    {
     "data": {
      "text/plain": [
       "0.6859320650053368"
      ]
     },
     "execution_count": 483,
     "metadata": {},
     "output_type": "execute_result"
    }
   ],
   "source": [
    "np.sqrt(mse(y_test, y_pred))"
   ]
  },
  {
   "cell_type": "code",
   "execution_count": 484,
   "id": "0440d2e9-e415-40a1-96c8-f87c4625e7b5",
   "metadata": {
    "tags": []
   },
   "outputs": [
    {
     "data": {
      "text/plain": [
       "0.6859320650053368"
      ]
     },
     "execution_count": 484,
     "metadata": {},
     "output_type": "execute_result"
    }
   ],
   "source": [
    "rmse = mse(y_test, y_pred, squared=False)\n",
    "rmse"
   ]
  },
  {
   "cell_type": "code",
   "execution_count": null,
   "id": "52f14396-2b17-49b6-b9f5-dff270feb774",
   "metadata": {},
   "outputs": [],
   "source": []
  },
  {
   "cell_type": "markdown",
   "id": "fcae1004-e72d-4b78-8808-714097c9299f",
   "metadata": {},
   "source": [
    "### Computing R2_score for test_set"
   ]
  },
  {
   "cell_type": "code",
   "execution_count": 485,
   "id": "06826ea3-a984-496f-bba9-15ac2e7ae4aa",
   "metadata": {
    "tags": []
   },
   "outputs": [
    {
     "data": {
      "text/plain": [
       "0.526"
      ]
     },
     "execution_count": 485,
     "metadata": {},
     "output_type": "execute_result"
    }
   ],
   "source": [
    "r2_test = round(r2_score(y_test, y_pred), 3)\n",
    "r2_test"
   ]
  },
  {
   "cell_type": "markdown",
   "id": "a20abcd1-fe10-4419-ac75-0753f34ab74d",
   "metadata": {},
   "source": [
    "### Computing R2_score for train_set"
   ]
  },
  {
   "cell_type": "code",
   "execution_count": 486,
   "id": "8bded628-a9e3-456f-9944-579d835315ec",
   "metadata": {
    "tags": []
   },
   "outputs": [
    {
     "data": {
      "text/plain": [
       "0.53"
      ]
     },
     "execution_count": 486,
     "metadata": {},
     "output_type": "execute_result"
    }
   ],
   "source": [
    "y_pred_train = pd.DataFrame(model.predict(X_train))\n",
    "r2_train = round(r2_score(y_train, y_pred_train), 2)\n",
    "r2_train"
   ]
  },
  {
   "cell_type": "markdown",
   "id": "c28866d2-9c46-43cb-afc9-fc8480bd824c",
   "metadata": {},
   "source": [
    "### Calculating adjusted R^2"
   ]
  },
  {
   "cell_type": "code",
   "execution_count": 487,
   "id": "75a02ca9-2441-473c-a054-c19bc4388c7d",
   "metadata": {
    "tags": []
   },
   "outputs": [
    {
     "name": "stdout",
     "output_type": "stream",
     "text": [
      "Adjusted R2: 0.5221684068710004 \n",
      "\n"
     ]
    }
   ],
   "source": [
    "# Calculating adjusted R^2\n",
    "n = X_train.shape[0]  # Number of observations in the training set\n",
    "p = X_train.shape[1]  # Number of features used for training\n",
    "adjusted_r2 = 1 - (1 - r2_test) * (n - 1) / (n - p - 1)\n",
    "print(f'Adjusted R2: {adjusted_r2} \\n')"
   ]
  },
  {
   "cell_type": "markdown",
   "id": "467245dd-2c15-453d-908f-ce0503d1f8b0",
   "metadata": {},
   "source": [
    "### Plot"
   ]
  },
  {
   "cell_type": "code",
   "execution_count": 488,
   "id": "394737da-1ca0-4d7c-834c-67d3ba7513d6",
   "metadata": {
    "tags": []
   },
   "outputs": [],
   "source": [
    "features_names = list(X)"
   ]
  },
  {
   "cell_type": "code",
   "execution_count": 489,
   "id": "bbdebc3b-8ba0-4291-89e8-45a5f203db54",
   "metadata": {
    "tags": []
   },
   "outputs": [],
   "source": [
    "coefficients = model.coef_\n",
    "coefficients = [i for i in coefficients[0]]"
   ]
  },
  {
   "cell_type": "code",
   "execution_count": 490,
   "id": "0e1c3910-e6f5-46d4-b192-307e4455de93",
   "metadata": {
    "tags": []
   },
   "outputs": [],
   "source": [
    "fi_dict = {'name':features_names, 'coeff':coefficients}\n",
    "fi_df = pd.DataFrame(fi_dict)"
   ]
  },
  {
   "cell_type": "code",
   "execution_count": 491,
   "id": "65937ad8-a63a-44f8-8bcf-e328bb58746b",
   "metadata": {
    "tags": []
   },
   "outputs": [],
   "source": [
    "fi_df = fi_df.sort_values(by='coeff', ascending=False)"
   ]
  },
  {
   "cell_type": "code",
   "execution_count": 492,
   "id": "2fa908b4-a153-43bd-8fd2-36669a8ea9f8",
   "metadata": {
    "tags": []
   },
   "outputs": [
    {
     "data": {
      "text/plain": [
       "<Axes: xlabel='coeff', ylabel='name'>"
      ]
     },
     "execution_count": 492,
     "metadata": {},
     "output_type": "execute_result"
    },
    {
     "data": {
      "image/png": "[encoded data removed]",
      "text/plain": [
       "<Figure size 1000x1200 with 1 Axes>"
      ]
     },
     "metadata": {},
     "output_type": "display_data"
    }
   ],
   "source": [
    "plt.figure(figsize=(10,12))\n",
    "sns.barplot(y= fi_df['name'], x = fi_df['coeff'])"
   ]
  },
  {
   "cell_type": "code",
   "execution_count": null,
   "id": "331eb9de-bc21-45f4-9cb6-d6eb936352dd",
   "metadata": {},
   "outputs": [],
   "source": []
  }
 ],
 "metadata": {
  "kernelspec": {
   "display_name": "Python 3 (ipykernel)",
   "language": "python",
   "name": "python3"
  },
  "language_info": {
   "codemirror_mode": {
    "name": "ipython",
    "version": 3
   },
   "file_extension": ".py",
   "mimetype": "text/x-python",
   "name": "python",
   "nbconvert_exporter": "python",
   "pygments_lexer": "ipython3",
   "version": "3.11.5"
  }
 },
 "nbformat": 4,
 "nbformat_minor": 5
}
